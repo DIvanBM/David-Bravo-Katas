{
 "cells": [
  {
   "cell_type": "markdown",
   "metadata": {},
   "source": [
    "# Kata 9"
   ]
  },
  {
   "cell_type": "markdown",
   "metadata": {},
   "source": [
    "Ejercicio 1\n"
   ]
  },
  {
   "cell_type": "code",
   "execution_count": 1,
   "metadata": {},
   "outputs": [],
   "source": [
    "def reporte_combustible(tanque_1, tanque_2, tanque_3):\n",
    "    combustible_total = (tanque_1 + tanque_2 + tanque_3) / 3\n",
    "    return f\"\"\" Reporte de Combustible\n",
    "    Combustible Total: {combustible_total}%\n",
    "    Tanque 1: {tanque_1}%\n",
    "    Tanque 2: {tanque_2}%\n",
    "    Tanque 3: {tanque_3}%    \n",
    "    \"\"\""
   ]
  },
  {
   "cell_type": "code",
   "execution_count": 2,
   "metadata": {},
   "outputs": [
    {
     "name": "stdout",
     "output_type": "stream",
     "text": [
      " Reporte de Combustible\n",
      "    Combustible Total: 78.33333333333333%\n",
      "    Tanque 1: 80%\n",
      "    Tanque 2: 70%\n",
      "    Tanque 3: 85%    \n",
      "    \n"
     ]
    }
   ],
   "source": [
    "print(reporte_combustible(80, 70, 85))"
   ]
  },
  {
   "cell_type": "code",
   "execution_count": 3,
   "metadata": {},
   "outputs": [],
   "source": [
    "def promedio(values):\n",
    "    total = sum(values)\n",
    "    number_of_items = len(values)\n",
    "    return total / number_of_items"
   ]
  },
  {
   "cell_type": "code",
   "execution_count": 4,
   "metadata": {},
   "outputs": [
    {
     "data": {
      "text/plain": [
       "82.0"
      ]
     },
     "execution_count": 4,
     "metadata": {},
     "output_type": "execute_result"
    }
   ],
   "source": [
    "promedio([80,85,81])"
   ]
  },
  {
   "cell_type": "code",
   "execution_count": 6,
   "metadata": {},
   "outputs": [
    {
     "name": "stdout",
     "output_type": "stream",
     "text": [
      "Fuel Report:\n",
      "    Combustible Total: 234.0%\n",
      "    Tanque 1 88%\n",
      "    Tanque 2 76%\n",
      "    Tanque 3 70% \n",
      "    \n"
     ]
    }
   ],
   "source": [
    "def reporte_combustible(tanque_1, tanque_2, tanque_3):\n",
    "    return f\"\"\"Fuel Report:\n",
    "    Combustible Total: {promedio([tanque_1 + tanque_2 + tanque_3])}%\n",
    "    Tanque 1 {tanque_1}%\n",
    "    Tanque 2 {tanque_2}%\n",
    "    Tanque 3 {tanque_3}% \n",
    "    \"\"\"\n",
    "print(reporte_combustible(88, 76, 70))"
   ]
  },
  {
   "cell_type": "markdown",
   "metadata": {},
   "source": [
    "Ejercicio 2"
   ]
  },
  {
   "cell_type": "code",
   "execution_count": 1,
   "metadata": {},
   "outputs": [
    {
     "name": "stdout",
     "output_type": "stream",
     "text": [
      "\n",
      "    Mission to Moon\n",
      "    Total travel time: 65 minutes\n",
      "    Total fuel left: 500000 gallons\n",
      "    \n"
     ]
    }
   ],
   "source": [
    "def reporte_mision(tiempo_lanzamiento, tiempo_vuelo, destino, tanque_externo, tanque_principal):\n",
    "    return f\"\"\"\n",
    "    Mission to {destino}\n",
    "    Total travel time: {tiempo_lanzamiento + tiempo_vuelo} minutes\n",
    "    Total fuel left: {tanque_externo + tanque_principal} gallons\n",
    "    \"\"\"\n",
    "\n",
    "print(reporte_mision(14, 51, \"Moon\", 200000, 300000))"
   ]
  },
  {
   "cell_type": "code",
   "execution_count": 2,
   "metadata": {},
   "outputs": [
    {
     "name": "stdout",
     "output_type": "stream",
     "text": [
      "\n",
      "    Mission to Moon\n",
      "    Total travel time: 76 minutes\n",
      "    Total fuel left: 500000\n",
      "    \n"
     ]
    }
   ],
   "source": [
    "def reporte_mision(destino, *minutos, **reseva_combustible):\n",
    "    return f\"\"\"\n",
    "    Mission to {destino}\n",
    "    Total travel time: {sum(minutos)} minutes\n",
    "    Total fuel left: {sum(reseva_combustible.values())}\n",
    "    \"\"\"\n",
    "\n",
    "print(reporte_mision(\"Moon\", 10, 15, 51, main=300000, external=200000))"
   ]
  },
  {
   "cell_type": "code",
   "execution_count": 3,
   "metadata": {},
   "outputs": [
    {
     "name": "stdout",
     "output_type": "stream",
     "text": [
      "\n",
      "    Mission to Moon\n",
      "    Total travel time: 74 minutes\n",
      "    Total fuel left: 500000\n",
      "    main tank --> 300000 gallons left\n",
      "external tank --> 200000 gallons left\n",
      "\n"
     ]
    }
   ],
   "source": [
    "def reporte_mision(destino, *minutos, **reserva_combustible):\n",
    "    reporte_principal = f\"\"\"\n",
    "    Mission to {destino}\n",
    "    Total travel time: {sum(minutos)} minutes\n",
    "    Total fuel left: {sum(reserva_combustible.values())}\n",
    "    \"\"\"\n",
    "    for tank_name, gallons in reserva_combustible.items():\n",
    "        reporte_principal += f\"{tank_name} tank --> {gallons} gallons left\\n\"\n",
    "    return reporte_principal\n",
    "\n",
    "print(reporte_mision(\"Moon\", 8, 11, 55, main=300000, external=200000))"
   ]
  }
 ],
 "metadata": {
  "interpreter": {
   "hash": "cdc24ae0c741b64722937ee9139de5c3349dbeb6ed5467cc42a4fed5f500b0a1"
  },
  "kernelspec": {
   "display_name": "Python 3.10.2 64-bit",
   "language": "python",
   "name": "python3"
  },
  "language_info": {
   "codemirror_mode": {
    "name": "ipython",
    "version": 3
   },
   "file_extension": ".py",
   "mimetype": "text/x-python",
   "name": "python",
   "nbconvert_exporter": "python",
   "pygments_lexer": "ipython3",
   "version": "3.10.2"
  },
  "orig_nbformat": 4
 },
 "nbformat": 4,
 "nbformat_minor": 2
}
